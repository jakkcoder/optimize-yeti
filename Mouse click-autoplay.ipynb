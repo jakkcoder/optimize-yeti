{
 "cells": [
  {
   "cell_type": "code",
   "execution_count": 2,
   "metadata": {
    "scrolled": true
   },
   "outputs": [
    {
     "name": "stdout",
     "output_type": "stream",
     "text": [
      "271.3\n",
      "click with value format 1.3599999999999999\n",
      "280\n",
      "click with value format 1.3599999999999999\n",
      "232.3\n",
      "click with value format 1.3599999999999999\n",
      "280\n",
      "click with value format 1.3599999999999999\n",
      "302.5\n",
      "click with value format 1.3599999999999999\n",
      "258.5\n",
      "click with value format 1.3599999999999999\n"
     ]
    },
    {
     "ename": "KeyboardInterrupt",
     "evalue": "",
     "output_type": "error",
     "traceback": [
      "\u001b[1;31m---------------------------------------------------------------------------\u001b[0m",
      "\u001b[1;31mKeyboardInterrupt\u001b[0m                         Traceback (most recent call last)",
      "\u001b[1;32m<ipython-input-2-c8ef0c3ca481>\u001b[0m in \u001b[0;36m<module>\u001b[1;34m\u001b[0m\n\u001b[0;32m      7\u001b[0m \u001b[1;33m\u001b[0m\u001b[0m\n\u001b[0;32m      8\u001b[0m \u001b[1;32mfor\u001b[0m \u001b[0m_\u001b[0m \u001b[1;32min\u001b[0m \u001b[0mrange\u001b[0m\u001b[1;33m(\u001b[0m\u001b[1;36m10\u001b[0m\u001b[1;33m)\u001b[0m\u001b[1;33m:\u001b[0m\u001b[1;33m\u001b[0m\u001b[1;33m\u001b[0m\u001b[0m\n\u001b[1;32m----> 9\u001b[1;33m     \u001b[0mtime\u001b[0m\u001b[1;33m.\u001b[0m\u001b[0msleep\u001b[0m\u001b[1;33m(\u001b[0m\u001b[1;36m2\u001b[0m\u001b[1;33m)\u001b[0m\u001b[1;33m\u001b[0m\u001b[1;33m\u001b[0m\u001b[0m\n\u001b[0m\u001b[0;32m     10\u001b[0m     \u001b[0mpyautogui\u001b[0m\u001b[1;33m.\u001b[0m\u001b[0mclick\u001b[0m\u001b[1;33m(\u001b[0m\u001b[0mx\u001b[0m\u001b[1;33m=\u001b[0m\u001b[1;36m40\u001b[0m\u001b[1;33m,\u001b[0m\u001b[0my\u001b[0m\u001b[1;33m=\u001b[0m\u001b[1;36m50\u001b[0m\u001b[1;33m)\u001b[0m\u001b[1;33m\u001b[0m\u001b[1;33m\u001b[0m\u001b[0m\n\u001b[0;32m     11\u001b[0m \u001b[1;31m#     timedelay =1+ np.random.random()*2\u001b[0m\u001b[1;33m\u001b[0m\u001b[1;33m\u001b[0m\u001b[1;33m\u001b[0m\u001b[0m\n",
      "\u001b[1;31mKeyboardInterrupt\u001b[0m: "
     ]
    }
   ],
   "source": [
    "from PIL import ImageGrab\n",
    "import pyautogui\n",
    "import time \n",
    "import cv2\n",
    "import numpy as np\n",
    "from input_feedback import feeback\n",
    "\n",
    "for _ in range(10):\n",
    "    time.sleep(2)\n",
    "    pyautogui.click(x=40,y=50)\n",
    "#     timedelay =1+ np.random.random()*2\n",
    "    timedelay =1+ .36\n",
    "    time.sleep(timedelay)\n",
    "    pyautogui.click(x=282, y=558)\n",
    "#     print(\"short-hit\")\n",
    "    time.sleep(10)\n",
    "    img = np.array(ImageGrab.grab(bbox=(0,0,930,590)))\n",
    "    img = cv2.cvtColor(img, cv2.COLOR_BGR2HSV)\n",
    "    color1 = (40,40,200) \n",
    "    color2 = (255,255,255) \n",
    "    boundaries = [([color1[0], color1[1], color1[2]], [color2[0], color2[1], color2[2]])]\n",
    "    for (lower, upper) in boundaries:\n",
    "        lower = np.array(lower, dtype=np.uint8)\n",
    "        upper = np.array(upper, dtype=np.uint8)\n",
    "        mask = cv2.inRange(img, lower, upper)\n",
    "        output = cv2.bitwise_and(img, img, mask=mask)\n",
    "    points = cv2.findNonZero(mask)\n",
    "    avg = (np.median(points, axis=0)[0]+[18,18]).astype(int)\n",
    "    ### calling on feedback\n",
    "    screen = np.array(ImageGrab.grab(bbox=(0,40,930,590)))\n",
    "    print(feeback(screen))\n",
    "    time.sleep(3)\n",
    "    pyautogui.moveTo(avg[0],avg[1]) \n",
    "    time.sleep(1)\n",
    "#     print(avg[0],avg[1])\n",
    "    pyautogui.click(avg[0],avg[1])\n",
    "    time.sleep(2)\n",
    "    print('click with value format {}'.format(timedelay))"
   ]
  }
 ],
 "metadata": {
  "kernelspec": {
   "display_name": "Python 3.8.5 64-bit ('tf2.3': conda)",
   "language": "python",
   "name": "python38564bittf23conda3af7763b02884590a8a16b3e29b65cde"
  },
  "language_info": {
   "codemirror_mode": {
    "name": "ipython",
    "version": 3
   },
   "file_extension": ".py",
   "mimetype": "text/x-python",
   "name": "python",
   "nbconvert_exporter": "python",
   "pygments_lexer": "ipython3",
   "version": "3.8.5"
  }
 },
 "nbformat": 4,
 "nbformat_minor": 4
}
